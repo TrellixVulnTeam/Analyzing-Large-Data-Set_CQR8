{
 "cells": [
  {
   "cell_type": "markdown",
   "metadata": {
    "collapsed": true,
    "pycharm": {
     "name": "#%% md\n"
    }
   },
   "source": [
    "# Analyzing Online News Popularity Data\n",
    "### *Author: Brett Dale*"
   ]
  },
  {
   "cell_type": "markdown",
   "source": [
    "# Table of contents\n",
    "1. [Introduction](#introduction)\n",
    "2. [Goal](#goal)\n",
    "3. [Plotting and Analyzing the Data](#plotting)\n",
    "4. [Training and Testing](#t&t)"
   ],
   "metadata": {
    "collapsed": false,
    "pycharm": {
     "name": "#%% md\n"
    }
   }
  },
  {
   "cell_type": "markdown",
   "source": [
    "## Introduction <a name=\"introduction\"></a>"
   ],
   "metadata": {
    "collapsed": false,
    "pycharm": {
     "name": "#%% md\n"
    }
   }
  },
  {
   "cell_type": "markdown",
   "source": [
    "The Online News Popularity data set captures statistics from articles posted on Mashable's website (www.mashable.com)\n",
    "\n",
    "The data set includes 61 features, with the features being things such as each article's published date, average length of words in the article, number of links used in article, etc.\n",
    "\n",
    "I chose this data set because this one stuck out to me as the most interesting one to study.\n",
    "The internet is a crucial part of today's society and manipulating data on online news articles seems like a relevant study."
   ],
   "metadata": {
    "collapsed": false,
    "pycharm": {
     "name": "#%% md\n"
    }
   }
  },
  {
   "cell_type": "markdown",
   "source": [
    "## Goal <a name=\"goal\"></a>"
   ],
   "metadata": {
    "collapsed": false,
    "pycharm": {
     "name": "#%% md\n"
    }
   }
  },
  {
   "cell_type": "markdown",
   "source": [
    "The target I am hoping to predict with this data set is the amount of shares an article received.\n",
    "\n",
    "There are many different features that have been recorded and I plan to find a high correlation between one of these features and the shares articles receive."
   ],
   "metadata": {
    "collapsed": false,
    "pycharm": {
     "name": "#%% md\n"
    }
   }
  },
  {
   "cell_type": "markdown",
   "source": [
    "## Plotting and Analyzing the Data <a name=\"plotting\"></a>"
   ],
   "metadata": {
    "collapsed": false,
    "pycharm": {
     "name": "#%% md\n"
    }
   }
  },
  {
   "cell_type": "code",
   "execution_count": 116,
   "outputs": [],
   "source": [
    "import pandas as pd\n",
    "entire_news_df = pd.read_csv(\"OnlineNewsPopularity/OnlineNewsPopularity.csv\", dtype={'url': str, 'timedelta': float, 'n_tokens_content' : float, 'shares': float}, sep=r'\\s*,\\s*',\n",
    "                           header=0, encoding='ascii', engine='python')"
   ],
   "metadata": {
    "collapsed": false,
    "pycharm": {
     "name": "#%%\n"
    }
   }
  },
  {
   "cell_type": "code",
   "execution_count": 117,
   "outputs": [
    {
     "data": {
      "text/plain": "<AxesSubplot:>"
     },
     "execution_count": 117,
     "metadata": {},
     "output_type": "execute_result"
    },
    {
     "data": {
      "text/plain": "<Figure size 432x288 with 1 Axes>",
      "image/png": "[encoded data removed]"
     },
     "metadata": {
      "needs_background": "light"
     },
     "output_type": "display_data"
    }
   ],
   "source": [
    "entire_news_df.boxplot(column=\"shares\")"
   ],
   "metadata": {
    "collapsed": false,
    "pycharm": {
     "name": "#%%\n"
    }
   }
  },
  {
   "cell_type": "markdown",
   "source": [
    "The above plot is a boxplot of the shares (our target to predict).\n",
    "This boxplot shows that this data set has some strong outliers toward the higher end.\n",
    "\n",
    "Having strong outliers toward the higher end of the data set is skewing the data, so dropping those outliers would help us model our data more accurately."
   ],
   "metadata": {
    "collapsed": false,
    "pycharm": {
     "name": "#%% md\n"
    }
   }
  },
  {
   "cell_type": "code",
   "execution_count": 118,
   "outputs": [],
   "source": [
    "entire_news_df = entire_news_df.sort_values(by=\"shares\", ascending=False)\n",
    "news_df = entire_news_df.copy(deep=True)"
   ],
   "metadata": {
    "collapsed": false,
    "pycharm": {
     "name": "#%%\n"
    }
   }
  },
  {
   "cell_type": "code",
   "execution_count": 119,
   "outputs": [
    {
     "data": {
      "text/plain": "<AxesSubplot:>"
     },
     "execution_count": 119,
     "metadata": {},
     "output_type": "execute_result"
    },
    {
     "data": {
      "text/plain": "<Figure size 432x288 with 1 Axes>",
      "image/png": "[encoded data removed]"
     },
     "metadata": {
      "needs_background": "light"
     },
     "output_type": "display_data"
    }
   ],
   "source": [
    "news_df.drop(entire_news_df.head(7000).index, inplace=True)\n",
    "news_df.boxplot(column=\"shares\")"
   ],
   "metadata": {
    "collapsed": false,
    "pycharm": {
     "name": "#%%\n"
    }
   }
  },
  {
   "cell_type": "markdown",
   "source": [
    "This looks much more like a boxplot compared to the previous one.\n",
    "\n",
    "The mean of shares among articles is hovering close to 1200. The higher-50% of shares among articles has a much wider range compared to the lower-50%."
   ],
   "metadata": {
    "collapsed": false,
    "pycharm": {
     "name": "#%% md\n"
    }
   }
  },
  {
   "cell_type": "markdown",
   "source": [
    "## Training and Testing <a name=\"t&t\"></a>"
   ],
   "metadata": {
    "collapsed": false,
    "pycharm": {
     "name": "#%% md\n"
    }
   }
  },
  {
   "cell_type": "markdown",
   "source": [
    "The training and testing process involves taking a random portion of the overall data (will be 70% in this case) and using that data to train our model.\n",
    "\n",
    "Once our model is trained on the training data, we will test our model on the testing data (the remaining 30% in this case)."
   ],
   "metadata": {
    "collapsed": false,
    "pycharm": {
     "name": "#%% md\n"
    }
   }
  },
  {
   "cell_type": "code",
   "execution_count": null,
   "outputs": [],
   "source": [
    "import sklearn"
   ],
   "metadata": {
    "collapsed": false,
    "pycharm": {
     "name": "#%%\n"
    }
   }
  }
 ],
 "metadata": {
  "kernelspec": {
   "display_name": "Python 3",
   "language": "python",
   "name": "python3"
  },
  "language_info": {
   "codemirror_mode": {
    "name": "ipython",
    "version": 2
   },
   "file_extension": ".py",
   "mimetype": "text/x-python",
   "name": "python",
   "nbconvert_exporter": "python",
   "pygments_lexer": "ipython2",
   "version": "2.7.6"
  }
 },
 "nbformat": 4,
 "nbformat_minor": 0
}