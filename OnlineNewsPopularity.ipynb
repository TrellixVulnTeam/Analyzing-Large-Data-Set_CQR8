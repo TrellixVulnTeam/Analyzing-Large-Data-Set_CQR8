{
 "cells": [
  {
   "cell_type": "markdown",
   "metadata": {
    "collapsed": true,
    "pycharm": {
     "name": "#%% md\n"
    }
   },
   "source": [
    "# Analyzing Online News Popularity Data\n",
    "### *Author: Brett Dale*"
   ]
  },
  {
   "cell_type": "markdown",
   "source": [
    "# Table of contents\n",
    "1. [Introduction](#introduction)\n",
    "2. [Goal](#goal)\n",
    "3. [Plotting and Analyzing the Data](#plotting)\n",
    "4. [Training and Testing](#t&t)\n",
    "5. [Residuals of Linear Model](#residuals_linear)\n",
    "6. [Cubic Model](#alt_model)\n",
    "7. [Cubic Model Residuals](#cubic_residuals)\n",
    "8. [Reflection](#reflection)\n",
    "9. [Three Things I Learned](#three_things)\n",
    "10. [Three Questions](#questions)\n",
    "11. [References](#references)"
   ],
   "metadata": {
    "collapsed": false,
    "pycharm": {
     "name": "#%% md\n"
    }
   }
  },
  {
   "cell_type": "markdown",
   "source": [
    "## Introduction <a name=\"introduction\"></a>"
   ],
   "metadata": {
    "collapsed": false,
    "pycharm": {
     "name": "#%% md\n"
    }
   }
  },
  {
   "cell_type": "markdown",
   "source": [
    "The Online News Popularity data set captures statistics from articles posted on Mashable's website (www.mashable.com)\n",
    "\n",
    "The data set includes 61 features, with the features being things such as each article's published date, average length of words in the article, number of links used in article, etc.\n",
    "\n",
    "I chose this data set because this one stuck out to me as the most interesting one to study.\n",
    "The internet is a crucial part of today's society and manipulating data on online news articles seems like a relevant study."
   ],
   "metadata": {
    "collapsed": false,
    "pycharm": {
     "name": "#%% md\n"
    }
   }
  },
  {
   "cell_type": "markdown",
   "source": [
    "## Goal <a name=\"goal\"></a>"
   ],
   "metadata": {
    "collapsed": false,
    "pycharm": {
     "name": "#%% md\n"
    }
   }
  },
  {
   "cell_type": "markdown",
   "source": [
    "The target I am hoping to predict with this data set is the amount of shares an article received.\n",
    "\n",
    "There are many different features that have been recorded and I plan to find a high correlation between one of these features and the shares articles receive."
   ],
   "metadata": {
    "collapsed": false,
    "pycharm": {
     "name": "#%% md\n"
    }
   }
  },
  {
   "cell_type": "markdown",
   "source": [
    "## Plotting and Analyzing the Data <a name=\"plotting\"></a>"
   ],
   "metadata": {
    "collapsed": false,
    "pycharm": {
     "name": "#%% md\n"
    }
   }
  },
  {
   "cell_type": "code",
   "execution_count": 59,
   "outputs": [],
   "source": [
    "import pandas as pd\n",
    "entire_news_df = pd.read_csv(\"OnlineNewsPopularity/OnlineNewsPopularity.csv\", dtype={'url': str, 'timedelta': float, 'n_tokens_content' : float, 'shares': float}, sep=r'\\s*,\\s*',\n",
    "                           header=0, encoding='ascii', engine='python')"
   ],
   "metadata": {
    "collapsed": false,
    "pycharm": {
     "name": "#%%\n"
    }
   }
  },
  {
   "cell_type": "code",
   "execution_count": 60,
   "outputs": [
    {
     "data": {
      "text/plain": "<AxesSubplot:>"
     },
     "execution_count": 60,
     "metadata": {},
     "output_type": "execute_result"
    },
    {
     "data": {
      "text/plain": "<Figure size 432x288 with 1 Axes>",
      "image/png": "[encoded data removed]"
     },
     "metadata": {
      "needs_background": "light"
     },
     "output_type": "display_data"
    }
   ],
   "source": [
    "entire_news_df.boxplot(column=\"shares\")"
   ],
   "metadata": {
    "collapsed": false,
    "pycharm": {
     "name": "#%%\n"
    }
   }
  },
  {
   "cell_type": "markdown",
   "source": [
    "The above plot is a boxplot of the shares (our target to predict).\n",
    "This boxplot shows that this data set has some strong outliers toward the higher end.\n",
    "\n",
    "Having strong outliers toward the higher end of the data set is skewing the data, so dropping those outliers would help us model our data more accurately."
   ],
   "metadata": {
    "collapsed": false,
    "pycharm": {
     "name": "#%% md\n"
    }
   }
  },
  {
   "cell_type": "code",
   "execution_count": 61,
   "outputs": [],
   "source": [
    "entire_news_df = entire_news_df.sort_values(by=\"shares\", ascending=False)\n",
    "news_df = entire_news_df.copy(deep=True)"
   ],
   "metadata": {
    "collapsed": false,
    "pycharm": {
     "name": "#%%\n"
    }
   }
  },
  {
   "cell_type": "code",
   "execution_count": 62,
   "outputs": [
    {
     "data": {
      "text/plain": "<AxesSubplot:>"
     },
     "execution_count": 62,
     "metadata": {},
     "output_type": "execute_result"
    },
    {
     "data": {
      "text/plain": "<Figure size 432x288 with 1 Axes>",
      "image/png": "[encoded data removed]"
     },
     "metadata": {
      "needs_background": "light"
     },
     "output_type": "display_data"
    }
   ],
   "source": [
    "news_df.drop(entire_news_df.head(7000).index, inplace=True)\n",
    "news_df.boxplot(column=\"shares\")"
   ],
   "metadata": {
    "collapsed": false,
    "pycharm": {
     "name": "#%%\n"
    }
   }
  },
  {
   "cell_type": "markdown",
   "source": [
    "This looks much more like a boxplot compared to the previous one.\n",
    "\n",
    "The mean of shares among articles is hovering close to 1200. The higher-50% of shares among articles has a much wider range compared to the lower-50%."
   ],
   "metadata": {
    "collapsed": false,
    "pycharm": {
     "name": "#%% md\n"
    }
   }
  },
  {
   "cell_type": "markdown",
   "source": [
    "## Training and Testing <a name=\"t&t\"></a>"
   ],
   "metadata": {
    "collapsed": false,
    "pycharm": {
     "name": "#%% md\n"
    }
   }
  },
  {
   "cell_type": "markdown",
   "source": [
    "The training and testing process involves taking a random portion of the overall data (will be 70% in this case) and using that data to train our model.\n",
    "\n",
    "Once our model is trained on the training data, we will test our model on the testing data (the remaining 30% in this case)."
   ],
   "metadata": {
    "collapsed": false,
    "pycharm": {
     "name": "#%% md\n"
    }
   }
  },
  {
   "cell_type": "code",
   "execution_count": 63,
   "outputs": [],
   "source": [
    "from sklearn.model_selection import train_test_split\n",
    "y = news_df['shares']\n",
    "x = news_df['n_tokens_content']\n",
    "x_train, x_test, y_train, y_test = train_test_split(x, y, train_size=0.7)"
   ],
   "metadata": {
    "collapsed": false,
    "pycharm": {
     "name": "#%%\n"
    }
   }
  },
  {
   "cell_type": "code",
   "execution_count": 64,
   "outputs": [
    {
     "data": {
      "text/plain": "LinearRegression()"
     },
     "execution_count": 64,
     "metadata": {},
     "output_type": "execute_result"
    }
   ],
   "source": [
    "from sklearn.linear_model import LinearRegression\n",
    "lm = LinearRegression()\n",
    "lm.fit(x_train.values.reshape(-1, 1), y_train)"
   ],
   "metadata": {
    "collapsed": false,
    "pycharm": {
     "name": "#%%\n"
    }
   }
  },
  {
   "cell_type": "code",
   "execution_count": 65,
   "outputs": [
    {
     "data": {
      "text/plain": "0.002237457730729364"
     },
     "execution_count": 65,
     "metadata": {},
     "output_type": "execute_result"
    }
   ],
   "source": [
    "lm.score(x_train.values.reshape(-1, 1), y_train)"
   ],
   "metadata": {
    "collapsed": false,
    "pycharm": {
     "name": "#%%\n"
    }
   }
  },
  {
   "cell_type": "code",
   "execution_count": 66,
   "outputs": [
    {
     "data": {
      "text/plain": "0.002768400938177873"
     },
     "execution_count": 66,
     "metadata": {},
     "output_type": "execute_result"
    }
   ],
   "source": [
    "lm.score(x_test.values.reshape(-1, 1), y_test)"
   ],
   "metadata": {
    "collapsed": false,
    "pycharm": {
     "name": "#%%\n"
    }
   }
  },
  {
   "cell_type": "markdown",
   "source": [
    "With the information we just gathered, we can see our Linear model scored very low on the testing data with (0.001647618300696041)"
   ],
   "metadata": {
    "collapsed": false,
    "pycharm": {
     "name": "#%% md\n"
    }
   }
  },
  {
   "cell_type": "markdown",
   "source": [
    "## Residuals of Linear Model <a name=\"residuals_linear\"></a>"
   ],
   "metadata": {
    "collapsed": false,
    "pycharm": {
     "name": "#%% md\n"
    }
   }
  },
  {
   "cell_type": "markdown",
   "source": [
    "Residuals are the difference between a data point and the regression line on the graph. Basically, it's the distance between the data point and the regression line."
   ],
   "metadata": {
    "collapsed": false,
    "pycharm": {
     "name": "#%% md\n"
    }
   }
  },
  {
   "cell_type": "code",
   "execution_count": 67,
   "outputs": [],
   "source": [
    "import matplotlib.pyplot as plt\n",
    "x_at_10 = x_train.loc[10]\n",
    "x_at_10 = x_at_10.reshape(-1, 1)\n",
    "x_train = x_train.values.reshape(-1, 1)\n",
    "lm_residuals = y_train - lm.predict(x_train)"
   ],
   "metadata": {
    "collapsed": false,
    "pycharm": {
     "name": "#%%\n"
    }
   }
  },
  {
   "cell_type": "code",
   "execution_count": 68,
   "outputs": [
    {
     "data": {
      "text/plain": "[<matplotlib.lines.Line2D at 0x10c33070>]"
     },
     "execution_count": 68,
     "metadata": {},
     "output_type": "execute_result"
    },
    {
     "data": {
      "text/plain": "<Figure size 432x288 with 1 Axes>",
      "image/png": "[encoded data removed]"
     },
     "metadata": {
      "needs_background": "light"
     },
     "output_type": "display_data"
    }
   ],
   "source": [
    "import seaborn as sns\n",
    "sns.scatterplot(x=lm.predict(x_train), y=lm_residuals, )\n",
    "plt.axhline(y = 0, color = 'red', label = 'y = 0')\n",
    "# plt.xticks([0, 200, 400, 600, 800, 1000, 1200, 1400, 1600, 1800, 2000])\n",
    "plt.xlim(1300, 2000)\n",
    "plt.plot(x_train, lm.predict(x_train))"
   ],
   "metadata": {
    "collapsed": false,
    "pycharm": {
     "name": "#%%\n"
    }
   }
  },
  {
   "cell_type": "markdown",
   "source": [
    "Based of the information we have just gathered, the linear model does not fit at all. The low scores on the testing data and the strong underfitting give reason to believe this model is not a great representation of the data."
   ],
   "metadata": {
    "collapsed": false,
    "pycharm": {
     "name": "#%% md\n"
    }
   }
  },
  {
   "cell_type": "markdown",
   "source": [
    "## Cubic Model <a name=\"alt_model\"></a>"
   ],
   "metadata": {
    "collapsed": false,
    "pycharm": {
     "name": "#%% md\n"
    }
   }
  },
  {
   "cell_type": "markdown",
   "source": [
    "We are going to test another model and perform the same steps we did with the Linear model\n",
    "\n",
    "I am choosing to try a cubic model. Cubic models give more flexibility to fit data and I believe a cubic model will fit better than the linear model did."
   ],
   "metadata": {
    "collapsed": false,
    "pycharm": {
     "name": "#%% md\n"
    }
   }
  },
  {
   "cell_type": "code",
   "execution_count": 69,
   "outputs": [],
   "source": [
    "from sklearn.pipeline import make_pipeline\n",
    "from sklearn.preprocessing import PolynomialFeatures"
   ],
   "metadata": {
    "collapsed": false,
    "pycharm": {
     "name": "#%%\n"
    }
   }
  },
  {
   "cell_type": "code",
   "execution_count": 70,
   "outputs": [],
   "source": [
    "lm = LinearRegression()\n",
    "cubic_reg = PolynomialFeatures(degree=3, include_bias=False)"
   ],
   "metadata": {
    "collapsed": false,
    "pycharm": {
     "name": "#%%\n"
    }
   }
  },
  {
   "cell_type": "code",
   "execution_count": 71,
   "outputs": [
    {
     "data": {
      "text/plain": "Pipeline(steps=[('polynomialfeatures',\n                 PolynomialFeatures(degree=3, include_bias=False)),\n                ('linearregression', LinearRegression())])"
     },
     "execution_count": 71,
     "metadata": {},
     "output_type": "execute_result"
    }
   ],
   "source": [
    "x_train, x_test, y_train, y_test = train_test_split(x, y, train_size=0.7)\n",
    "cubic_pipeline = make_pipeline(cubic_reg, lm)\n",
    "cubic_pipeline.fit(x_train.values.reshape(-1, 1), y_train)"
   ],
   "metadata": {
    "collapsed": false,
    "pycharm": {
     "name": "#%%\n"
    }
   }
  },
  {
   "cell_type": "code",
   "execution_count": 72,
   "outputs": [
    {
     "data": {
      "text/plain": "0.0008311164123434578"
     },
     "execution_count": 72,
     "metadata": {},
     "output_type": "execute_result"
    }
   ],
   "source": [
    "cubic_pipeline.score(x_test.values.reshape(-1, 1), y_test)"
   ],
   "metadata": {
    "collapsed": false,
    "pycharm": {
     "name": "#%%\n"
    }
   }
  },
  {
   "cell_type": "code",
   "execution_count": 73,
   "outputs": [
    {
     "data": {
      "text/plain": "0.003591622661415217"
     },
     "execution_count": 73,
     "metadata": {},
     "output_type": "execute_result"
    }
   ],
   "source": [
    "cubic_pipeline.score(x_train.values.reshape(-1, 1), y_train)"
   ],
   "metadata": {
    "collapsed": false,
    "pycharm": {
     "name": "#%%\n"
    }
   }
  },
  {
   "cell_type": "markdown",
   "source": [
    "## Cubic Model Residuals <a name=\"cubic_residuals\"></a>"
   ],
   "metadata": {
    "collapsed": false,
    "pycharm": {
     "name": "#%% md\n"
    }
   }
  },
  {
   "cell_type": "markdown",
   "source": [
    "Now that we have our pipeline built and collected the scores, we can start getting residual data"
   ],
   "metadata": {
    "collapsed": false,
    "pycharm": {
     "name": "#%% md\n"
    }
   }
  },
  {
   "cell_type": "code",
   "execution_count": 74,
   "outputs": [
    {
     "data": {
      "text/plain": "[<matplotlib.lines.Line2D at 0x1b677718>]"
     },
     "execution_count": 74,
     "metadata": {},
     "output_type": "execute_result"
    },
    {
     "data": {
      "text/plain": "<Figure size 432x288 with 1 Axes>",
      "image/png": "[encoded data removed]"
     },
     "metadata": {
      "needs_background": "light"
     },
     "output_type": "display_data"
    }
   ],
   "source": [
    "cubic_residuals = y_train - cubic_pipeline.predict(x_train.values.reshape(-1, 1))\n",
    "sns.scatterplot(x=cubic_pipeline.predict(x_train.values.reshape(-1, 1)), y=cubic_residuals, )\n",
    "plt.axhline(y = 0, color = 'red', label = 'y = 0')\n",
    "plt.xlim(1300, 2000)\n",
    "plt.plot(x_train.values.reshape(-1, 1), cubic_pipeline.predict(x_train.values.reshape(-1, 1)))"
   ],
   "metadata": {
    "collapsed": false,
    "pycharm": {
     "name": "#%%\n"
    }
   }
  },
  {
   "cell_type": "markdown",
   "source": [
    "Based off the information we now have for our cubic pipeline, this model is not great for the data set either.\n",
    "The scores for both training and testing data were very low and the residual data is well off the regression line."
   ],
   "metadata": {
    "collapsed": false,
    "pycharm": {
     "name": "#%% md\n"
    }
   }
  },
  {
   "cell_type": "markdown",
   "source": [
    "## Reflection <a name=\"reflection\"></a>"
   ],
   "metadata": {
    "collapsed": false,
    "pycharm": {
     "name": "#%% md\n"
    }
   }
  },
  {
   "cell_type": "markdown",
   "source": [
    "During this project, I was unable to find a relatively good model to predict the number of shares on an article.\n",
    "None of the models I put together came close to fitting the data. Therefore, I would not suggest using these models to predict the shares an article will receive."
   ],
   "metadata": {
    "collapsed": false,
    "pycharm": {
     "name": "#%% md\n"
    }
   }
  },
  {
   "cell_type": "markdown",
   "source": [
    "## Three Things I Learned <a name=\"three_things\"></a>"
   ],
   "metadata": {
    "collapsed": false,
    "pycharm": {
     "name": "#%% md\n"
    }
   }
  },
  {
   "cell_type": "markdown",
   "source": [
    "1. I learned that you can not make a pipeline with PolynomialFeature and SelectKBest. There is no regression to perform\n",
    "\n",
    "2. I strengthened my ability to interpret scores, and my knowledge on the purpose of splitting the data into training and testing data\n",
    "\n",
    "3. I strengthened my ability to create and understand the importance of residuals."
   ],
   "metadata": {
    "collapsed": false,
    "pycharm": {
     "name": "#%% md\n"
    }
   }
  },
  {
   "cell_type": "markdown",
   "source": [
    "## Three Good Questions <a name=\"questions\"></a>"
   ],
   "metadata": {
    "collapsed": false,
    "pycharm": {
     "name": "#%% md\n"
    }
   }
  },
  {
   "cell_type": "markdown",
   "source": [
    "1. Why is LinearRegression used so widespread? I've noticed most examples include using LinearRegression in some way or form to plot data\n",
    "\n",
    "2. How would I include features that are more true-false rather than statistical? An example is in this data set, we had features that were true-false such as 'data_channel_is_business'\n",
    "\n",
    "3. What are some things I can notice early on in the project to help me get better scores on my models? To put it in other words; What do I look for to know what kind of model to form?"
   ],
   "metadata": {
    "collapsed": false,
    "pycharm": {
     "name": "#%% md\n"
    }
   }
  },
  {
   "cell_type": "markdown",
   "source": [
    "## References <a name=\"references\"></a>\n",
    "\n",
    "Residual information - https://www.statisticshowto.com/residual/#:~:text=A%20residual%20is%20the%20vertical,are%20below%20the%20regression%20line.&text=In%20other%20words%2C%20the%20residual,explained%20by%20the%20regression%20line.\n",
    "\n",
    "Linear Regression information - https://scikit-learn.org/stable/modules/generated/sklearn.linear_model.LinearRegression.html#sklearn.linear_model.LinearRegression.predict\n",
    "\n"
   ],
   "metadata": {
    "collapsed": false,
    "pycharm": {
     "name": "#%% md\n"
    }
   }
  }
 ],
 "metadata": {
  "kernelspec": {
   "display_name": "Python 3",
   "language": "python",
   "name": "python3"
  },
  "language_info": {
   "codemirror_mode": {
    "name": "ipython",
    "version": 2
   },
   "file_extension": ".py",
   "mimetype": "text/x-python",
   "name": "python",
   "nbconvert_exporter": "python",
   "pygments_lexer": "ipython2",
   "version": "2.7.6"
  }
 },
 "nbformat": 4,
 "nbformat_minor": 0
}